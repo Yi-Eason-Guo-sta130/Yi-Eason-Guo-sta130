{
 "cells": [
  {
   "cell_type": "markdown",
   "id": "a0b7e8b9",
   "metadata": {},
   "source": [
    "# Sta Hw 05"
   ]
  },
  {
   "cell_type": "markdown",
   "id": "94eb01ca",
   "metadata": {},
   "source": [
    "### Question 1\n",
    "What is the key factor that makes the difference between ideas that can, and cannot be examined and tested statistically?\n",
    "\n",
    "One key factor is to make sure that the object we are examining is measured clearly and quantifiably and can be used within variables and statistical analysis.  \n",
    "\n",
    "What would you describe is the key \"criteria\" defining what a good null hypothesis is? And what is the difference between a null hypothesis and an alternative hypothesis in the context of hypothesis testing? \n",
    "\n",
    "A good null hypothesis would have to be clear on the specific subject that we are testing, we can reject or fail to reject it with our received or estimated statistics. Comparing the null hypothesis and the alternative hypothesis, the null hypothesis normally assumes no effect or differences on the subject we are testing. The alternative hypothesis demonstrates a suggestion of having an effect on the subject. "
   ]
  },
  {
   "cell_type": "markdown",
   "id": "7232fb73",
   "metadata": {},
   "source": [
    "### Question 2 \n",
    "How would you describe what the sentence above means? Explain this concisely in your own words for a \"non-statsitical\" audience, defining the technical statistical terminology you use in your answer. \n",
    "\n",
    "The sentence is basically saying that by using our sample information, we are able to do some calculations and get the estimation of our population parameter. In this case, population is everything or everyone we care about. And when we are making our final decision, we state our conclusion base on our point of view on the population level statitics. "
   ]
  },
  {
   "cell_type": "markdown",
   "id": "422cf131",
   "metadata": {},
   "source": [
    "### Question 3\n",
    "The second \"Pre-lecture\" video (above) explains that we \"imagine a world where the null hypothesis is true\" when calculating a p-value? Explain why this is in your own words in a way that makes the most sense to you.\n",
    "\n",
    "By using the null hypothesis, we can assume a world that such subject being true. Which is assuming that nothing unusual will happen as our tests goes on. This helps use to see how our statistics presents a response to our hypothesis and decide we either reject it or failed to reject it. "
   ]
  },
  {
   "cell_type": "markdown",
   "id": "aa367d1a",
   "metadata": {},
   "source": [
    "### Question 4\n",
    "The second \"Pre-lecture\" video (above) suggests that a smaller p-value makes the null hypothesis look more ridiculous. Explain why this is in your own words in a way that makes the most sense to you, clarifying the meaning of any technical statistical terminology you use in your answer.\n",
    "\n",
    "The p-value demonstrates how likely our assumtion will happen. Which is the probability of the chances that the null hypothesis will happen. When the p-value is a very small number, it suggest that the null hypothesis is unusual to happen, which gives us the reason to reject our null hypothesis. "
   ]
  },
  {
   "cell_type": "markdown",
   "id": "4262f329",
   "metadata": {},
   "source": [
    "### Question 5\n",
    "Under my amazing directing and teaching the chatbot helped us format the module to calculate the possibility of whether a human has tendencies to tilt their heads when they are kissing. Which is done by the amazing np.random.binomial() method to simulate this entire module. The p-value we receive is around 0.0008 which it demonstrates to strongly reject our null hypothesis since it falls under the criteria of \"Very strong evidence against the null hypothesis\". Meaning that the chances of people having tendencies to tilt their heads while kissing are very much unusual to happen based on the simulation we did. \n"
   ]
  },
  {
   "cell_type": "code",
   "execution_count": 8,
   "id": "183c2002",
   "metadata": {},
   "outputs": [
    {
     "name": "stdout",
     "output_type": "stream",
     "text": [
      "P-value: 0.00078\n"
     ]
    }
   ],
   "source": [
    "# Code for Question 5\n",
    "\n",
    "import numpy as np\n",
    "\n",
    "# Simulation parameters\n",
    "num_simulations = 100_000  # Number of simulations\n",
    "sample_size = 124          # Total number of couples\n",
    "observed_tilt_right = 80   # Observed number of right-tilting couples\n",
    "\n",
    "# Simulate the number of couples tilting right under the null hypothesis (50% chance)\n",
    "simulated_tilts = np.random.binomial(n=sample_size, p=0.5, size=num_simulations)\n",
    "\n",
    "# Calculate the proportion of simulations where the result is at least as extreme as the observed result\n",
    "p_value = np.mean(simulated_tilts >= observed_tilt_right)\n",
    "\n",
    "# Output the p-value\n",
    "print(f\"P-value: {p_value}\")\n"
   ]
  },
  {
   "cell_type": "markdown",
   "id": "2e5f6d45",
   "metadata": {},
   "source": [
    "### Question 6\n",
    "Can a smaller p-value definitively prove that the null hypothesis is false? Is it possible to definitively prove that Fido (from the \"second pre-lecture video\") is innocent using a p-value? Is it possible to difinitively prove that Fido is guilty using a p-value? How low or high does a p-value have to be to definitely prove one or the other? Explain this concisely in your own words.\n",
    "\n",
    "The answer to this question would be no. This is due to the fact that our p-value only represents an estimated chances of something happening, we can never be sure that it will guaranteed to happen in real life. In other words, it is a very educational guess thats based on our estimation. Meanwhile, due to how the population statistic presents, the p-value may present differently. "
   ]
  },
  {
   "cell_type": "markdown",
   "id": "5f2c2b70",
   "metadata": {},
   "source": [
    "### Question 7\n"
   ]
  },
  {
   "cell_type": "code",
   "execution_count": 10,
   "id": "6ab4c1b7",
   "metadata": {},
   "outputs": [
    {
     "name": "stdout",
     "output_type": "stream",
     "text": [
      "Observed proportion of positive improvements: 0.8\n",
      "One-tailed p-value: 0.0565\n"
     ]
    }
   ],
   "source": [
    "#Question 7 coding\n",
    "import numpy as np\n",
    "import pandas as pd\n",
    "\n",
    "# Create the patient data\n",
    "patient_data = pd.DataFrame({\n",
    "    \"PatientID\": [1, 2, 3, 4, 5, 6, 7, 8, 9, 10],\n",
    "    \"InitialHealthScore\": [84, 78, 83, 81, 81, 80, 79, 85, 76, 83],\n",
    "    \"FinalHealthScore\": [86, 86, 80, 86, 84, 86, 86, 82, 83, 84]\n",
    "})\n",
    "patient_data['HealthScoreChange'] = patient_data['FinalHealthScore'] - patient_data['InitialHealthScore']\n",
    "\n",
    "# Observed proportion of positive improvements\n",
    "observed_statistic = (patient_data['HealthScoreChange'] > 0).mean()\n",
    "print(f\"Observed proportion of positive improvements: {observed_statistic}\")\n",
    "\n",
    "# Set up the simulation parameters\n",
    "np.random.seed(1)  # For reproducibility\n",
    "number_of_simulations = 10_000\n",
    "n_size = len(patient_data)\n",
    "\n",
    "# Generate random improvement simulations under H0 (no average improvement)\n",
    "simulated_statistics = np.zeros(number_of_simulations)\n",
    "\n",
    "for i in range(number_of_simulations):\n",
    "    # Randomly assign positive or zero improvement under H0\n",
    "    random_improvement = np.random.choice([0, 1], size=n_size, replace=True)\n",
    "    simulated_statistics[i] = random_improvement.mean()\n",
    "\n",
    "# One-sided p-value: Proportion of simulations with statistic >= observed\n",
    "p_value = np.mean(simulated_statistics >= observed_statistic)\n",
    "print(f\"One-tailed p-value: {p_value}\")\n"
   ]
  },
  {
   "cell_type": "markdown",
   "id": "ed2b496c",
   "metadata": {},
   "source": [
    "### Question 8\n",
    "Clarity of your documentation, code, and written report\n",
    "Description of the population (and sample) and parameter of interest (and corresponding observed test statistic)\n",
    "- The population is the people in the entire world. The sample is the random sample of 80 students from sta130. Each sstudent tastes one cup of tea and were asked on whether the milk was poured in first or the tea. \n",
    "Formal null hypotheses \n",
    "- The proportion of students who can correctly identfy the order of pouring is equal to 0.5. \n",
    "- We Assume that p = 0.5\n",
    "Provide an informal interpretive statement explaining in more casual everyday common language\n",
    "- It denmonstrate that when asking a group of students whether the milk or tea was poured first. \n",
    "Alternative hypothesis HA in terms of H0\n",
    "- Assume that p > 0.5\n",
    "- More than half of the students can correctly identifyu which liquid was poured in first. \n",
    "Quantitative analysis addressing the validity of \n",
    "Explanation of the method clearly articulating the purpose of the usage of statistic(s) to address the population parameter of interest\n",
    "- The method that was done through this population parametre calculation was through .random() method with bootstrapping to lead us to the final estimation after 10000 simulations. Lastly, the coding work were mainly contributed by the Chatbot. "
   ]
  },
  {
   "cell_type": "code",
   "execution_count": 13,
   "id": "b16b6632",
   "metadata": {},
   "outputs": [
    {
     "data": {
      "image/png": "[encoded data removed]",
      "text/plain": [
       "<Figure size 640x480 with 1 Axes>"
      ]
     },
     "metadata": {},
     "output_type": "display_data"
    },
    {
     "name": "stdout",
     "output_type": "stream",
     "text": [
      "Observed Proportion: 0.6125\n",
      "P-value: 0.5445\n"
     ]
    }
   ],
   "source": [
    "import numpy as np\n",
    "import pandas as pd\n",
    "import matplotlib.pyplot as plt\n",
    "\n",
    "# Parameters\n",
    "n_students = 80  # Total number of students\n",
    "observed_correct = 49  # Correct identifications\n",
    "p_null = 0.5  # Null hypothesis probability\n",
    "n_bootstrap = 10000  # Number of bootstrap samples\n",
    "\n",
    "# Function to generate bootstrap samples and calculate the proportion of correct identifications\n",
    "def bootstrap_proportions(n_students, observed_correct, p_null, n_bootstrap):\n",
    "    # Generate an array for the results\n",
    "    bootstrap_results = []\n",
    "    \n",
    "    # Create an array representing correct (1) and incorrect (0) guesses\n",
    "    actual_outcomes = [1] * observed_correct + [0] * (n_students - observed_correct)\n",
    "    \n",
    "    for _ in range(n_bootstrap):\n",
    "        # Bootstrap sampling with replacement\n",
    "        sample = np.random.choice(actual_outcomes, size=n_students, replace=True)\n",
    "        # Calculate the proportion of correct guesses in the sample\n",
    "        proportion_correct = np.mean(sample)\n",
    "        bootstrap_results.append(proportion_correct)\n",
    "    \n",
    "    return bootstrap_results\n",
    "\n",
    "# Generate bootstrap proportions\n",
    "bootstrap_results = bootstrap_proportions(n_students, observed_correct, p_null, n_bootstrap)\n",
    "\n",
    "# Calculate the observed proportion\n",
    "observed_proportion = observed_correct / n_students\n",
    "\n",
    "# Calculate the p-value\n",
    "# Count how many bootstrap results are greater than or equal to the observed proportion\n",
    "p_value = np.sum(np.array(bootstrap_results) >= observed_proportion) / n_bootstrap\n",
    "\n",
    "# Plot the bootstrap distribution\n",
    "plt.hist(bootstrap_results, bins=30, edgecolor='k', alpha=0.7)\n",
    "plt.axvline(observed_proportion, color='red', linestyle='dashed', linewidth=2, label='Observed Proportion')\n",
    "plt.title('Bootstrap Distribution of Proportions of Correct Identifications')\n",
    "plt.xlabel('Proportion of Correct Identifications')\n",
    "plt.ylabel('Frequency')\n",
    "plt.legend()\n",
    "plt.show()\n",
    "\n",
    "# Print the results\n",
    "print(f\"Observed Proportion: {observed_proportion:.4f}\")\n",
    "print(f\"P-value: {p_value:.4f}\")\n"
   ]
  },
  {
   "cell_type": "markdown",
   "id": "db81f12a",
   "metadata": {},
   "source": [
    "### Chatbot summary:\n",
    "Certainly! Here’s a comprehensive summary of everything we covered in this section related to Fisher's Tea Experiment and the associated statistical analysis:\n",
    "\n",
    "---\n",
    "\n",
    "## Summary of the Fisher's Tea Experiment and Statistical Analysis\n",
    "\n",
    "### Overview of the Experiment\n",
    "- **Background**: The Fisher's Tea Experiment originates from a discussion between the statistician Ronald Fisher and Dr. Muriel Bristol, who claimed she could distinguish between tea poured with milk added first and vice versa.\n",
    "- **Objective**: The goal was to determine if Bristol's ability to identify the pouring order was due to chance or if she had a genuine sensory distinction.\n",
    "\n",
    "### Experimental Design\n",
    "- **Sample**: A random sample of 80 STA130 students participated in the experiment. Each student was given one cup of tea and asked to determine the order of pouring (milk or tea).\n",
    "- **Results**: Out of the 80 students, 49 were able to correctly identify the pouring order.\n",
    "\n",
    "### Statistical Hypotheses\n",
    "1. **Null Hypothesis (\\(H_0\\))**: \n",
    "   - \\(H_0: p = 0.5\\)\n",
    "   - This hypothesis posits that the proportion of students correctly identifying the pouring order is equal to 0.5, implying random guessing.\n",
    "\n",
    "2. **Alternative Hypothesis (\\(H_A\\))**:\n",
    "   - \\(H_A: p > 0.5\\)\n",
    "   - This hypothesis suggests that more than 50% of the students can accurately identify the order, indicating a sensory ability beyond random guessing.\n",
    "\n",
    "### Interpretive Statements\n",
    "- **Formal Interpretation**: The null hypothesis states that the students’ correct identifications are no better than random chance.\n",
    "- **Informal Interpretation**: In simpler terms, if we assume the null hypothesis is true, students' guesses would be equivalent to flipping a coin.\n",
    "\n",
    "### Statistical Analysis\n",
    "1. **Binomial Test**:\n",
    "   - We discussed using the binomial test to calculate the p-value associated with the observed statistic of 49 correct identifications. This method assesses the likelihood of observing at least 49 correct guesses under the null hypothesis.\n",
    "\n",
    "2. **Bootstrapping Approach**:\n",
    "   - An alternative analysis was conducted using bootstrapping, which involves generating random samples with replacement from the observed data to create a distribution of possible outcomes.\n",
    "   - The proportion of correct identifications was calculated for each bootstrap sample, and a p-value was derived by comparing the observed proportion to this bootstrap distribution.\n",
    "\n",
    "### Results\n",
    "- Both methods aimed to evaluate the evidence against the null hypothesis:\n",
    "  - **Binomial Test**: Calculated p-value to assess the significance of the results.\n",
    "  - **Bootstrapping**: Visualized the bootstrap distribution and provided an empirical p-value based on random sampling.\n",
    "\n",
    "### Visualization\n",
    "- A histogram was generated to visualize the distribution of bootstrap proportions, with the observed proportion highlighted, aiding in the interpretation of results.\n",
    "\n",
    "### Conclusion\n",
    "- The statistical analyses conducted provided a framework to evaluate the claim made by Dr. Bristol regarding her ability to distinguish the pouring order of tea and milk.\n",
    "- The outcome of the p-values from both the binomial test and bootstrapping would indicate whether there is statistically significant evidence to reject the null hypothesis in favor of the alternative hypothesis.\n",
    "\n",
    "---\n",
    "\n",
    "This summary encapsulates the objectives, methodologies, analyses, and interpretations associated with the Fisher's Tea Experiment and the statistical processes we explored in this section. Let me know if you need any additional details or clarification on any points\n",
    "https://chatgpt.com/share/670e0f4b-6690-8006-a73b-72bc80396219"
   ]
  }
 ],
 "metadata": {
  "kernelspec": {
   "display_name": "Python 3 (ipykernel)",
   "language": "python",
   "name": "python3"
  },
  "language_info": {
   "codemirror_mode": {
    "name": "ipython",
    "version": 3
   },
   "file_extension": ".py",
   "mimetype": "text/x-python",
   "name": "python",
   "nbconvert_exporter": "python",
   "pygments_lexer": "ipython3",
   "version": "3.11.6"
  }
 },
 "nbformat": 4,
 "nbformat_minor": 5
}
