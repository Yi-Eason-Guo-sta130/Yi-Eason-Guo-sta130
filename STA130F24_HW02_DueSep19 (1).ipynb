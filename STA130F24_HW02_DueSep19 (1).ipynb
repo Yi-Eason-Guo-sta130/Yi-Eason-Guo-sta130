{
 "cells": [
  {
   "cell_type": "code",
   "execution_count": 4,
   "id": "c9bc717b",
   "metadata": {},
   "outputs": [
    {
     "name": "stdout",
     "output_type": "stream",
     "text": [
      "Win rate when switching: 0.66755\n"
     ]
    }
   ],
   "source": [
    "# Chatgpt code of simpler version\n",
    "#i prefer this version simply because that: its shorter, and also i can let the code randomly chooses the door i want to go for. Compares to the other one, i can only choose door 1 everytime, or only choose a specific door for 100000 times. \n",
    "# To my learning, i think randomly chooses any door fits the Monte Hall problem better for understanding\n",
    "import numpy as np\n",
    "\n",
    "reps = 100000\n",
    "wins = 0\n",
    "\n",
    "for _ in range(reps):\n",
    "    # Randomly assign the winning door and the initial choice\n",
    "    winning_door = np.random.choice([1, 2, 3])\n",
    "    # Randomly choose the winning door from the three options\n",
    "    my_choice = np.random.choice([1, 2, 3])\n",
    "    # randomly chooses my own door i want to go for from the three options\n",
    "    available_doors = [door for door in [1, 2, 3] if door != my_choice and door != winning_door]\n",
    "    # finds the door thats neither the one we choosed or winning door \n",
    "    monty_reveals = np.random.choice(available_doors)\n",
    "    # reveals that door(goat door/ losing door) and removes it from the remaining list \n",
    "    # Switch to the remaining door\n",
    "    remaining_door = [door for door in [1, 2, 3] if door != my_choice and door != monty_reveals][0]\n",
    "    # selects that remaining elements(doors) in the set that is not the one we choose\n",
    "    my_choice = remaining_door\n",
    "    # switch to that selected door \n",
    "    \n",
    "    # Check if the new choice wins\n",
    "    if my_choice == winning_door:\n",
    "        wins += 1\n",
    "    # if that door we end up switching to is the winning door, then our win count increase by 1\n",
    "# Calculate the probability of winning when switching\n",
    "win_rate = wins / reps\n",
    "print(f\"Win rate when switching: {win_rate}\")\n"
   ]
  },
  {
   "cell_type": "code",
   "execution_count": 3,
   "id": "348db697",
   "metadata": {},
   "outputs": [
    {
     "data": {
      "text/plain": [
       "0.66919"
      ]
     },
     "execution_count": 3,
     "metadata": {},
     "output_type": "execute_result"
    }
   ],
   "source": [
    "# original code from TUTORIAL\n",
    "\n",
    "import numpy as np\n",
    "# we uses numpy to access to its random number generation capabilities(np.random.choice)\n",
    "all_door_options = (1,2,3)\n",
    "# the code above shows the set of all the options of doors we can open, meanwhile it is a turple set sso that we cannot edit to it \n",
    "# 1,2,3 represents door 1, door2, door3\n",
    "my_door_choice = 1  # 1,2,3\n",
    "# shows that we always picks door 1 as the first choice door\n",
    "i_won = 0\n",
    "# number of winniong, use to track the amout of winning later on in the code\n",
    "reps = 100000\n",
    "# the number of repitition of simulate the code/ game , in this case, running it for 100000 times to be more accruate to the probability chance of wining \n",
    "for i in range(reps):\n",
    "    # starts the loop thatr will repeat the process\n",
    "    secret_winning_door = np.random.choice(all_door_options)\n",
    "    # using the numpy random number genrating ystem, randomly chooses the wining door(number between 1,2,3)\n",
    "    all_door_options_list = list(all_door_options)\n",
    "    # convert the door set into a list set so that we are able to make changes on it later\n",
    "    all_door_options_list.remove(secret_winning_door)\n",
    "    # as we change the set type to list, we are able make changes to a list set and remove that random number(the winming door) from the set\n",
    "    try:\n",
    "        all_door_options_list.remove(my_door_choice)\n",
    "        # if the choosing door is that winning door, then its being removed from the set\n",
    "    except:\n",
    "        pass\n",
    "   # when this error occurs\n",
    "\n",
    "    goat_door_reveal = np.random.choice(all_door_options_list)\n",
    "    # randomly chooses the remaining of the two door and reveal it as the goat door(losing door)\n",
    "    all_door_options_list.remove(goat_door_reveal)\n",
    "    #removes that revealed losing door from the set list\n",
    "\n",
    "    # put the secret_winning_door back in if it wasn't our choice\n",
    "    # we previously removed it, so it would be shown as a  \"goat\" losing door\n",
    "    if secret_winning_door != my_door_choice:\n",
    "        # if the winning door(randomly choosed door) is not the first door(1, the door we choosed)\n",
    "        all_door_options_list.append(secret_winning_door)\n",
    "        # Get the winning door back to the list if the door we p[reviously choose was not the winning door\n",
    " \n",
    "\n",
    "  \n",
    "    my_door_choice = all_door_options_list[0]\n",
    "# switch the door choice to one of the remaining door in the set list\n",
    "    if my_door_choice == secret_winning_door:\n",
    "    # the the new choice of door / the door we switched to is the winning door\n",
    "        i_won += 1\n",
    "        #ncrease the count of wins\n",
    "i_won/reps\n",
    "#Probability of wining by using total wins divide the value of total reps"
   ]
  },
  {
   "cell_type": "markdown",
   "id": "4db2db00",
   "metadata": {},
   "source": [
    "Question 6\n",
    "1. Discuss how quickly the ChatBot was able to be helpful for each of the above questions, and if so, how? \n",
    "\n",
    "The chatbot was able to answer most of my questions about coding espacially, toward the right direction, and it is pretty simple to understand as it gaves an example. However, the tough part is that it does not go up directly to the topic. It often gave some other piece of non-related or further related question that doesn't help during the situation. \n",
    "\n",
    "2. Discuss whether or not interacting with ChatBot to try to figure things out was frustrating or unhelpful, and if so, how? \n",
    "\n",
    "When it dosen't gave a specific or veryfy answer, or it doesn't gave an example of how things functions, thats when i feel like it is unhelpfulHowever, for this experience of using chatbot(For this HW and Lec), i am impressed by how much time it saves me to understand the code\n",
    "\n",
    "3. Based on your experiences to date (e.g., including using ChatBots to troubleshoot coding errors in the previous homework), provide an overall assessment evaluating the usefulness of ChatBots as tools to help you understand code\n",
    "\n",
    "Given a mark out of 10, i would say for this assgnment, it gets a rating of 7/10, it is quite accurate for this HW. However for the previous works, it does occur some syntax errors which we have to redirect those messege to chatbot to have it resolve our problems. "
   ]
  },
  {
   "cell_type": "markdown",
   "id": "704ff630",
   "metadata": {},
   "source": [
    "Question 7: \n",
    "\n",
    "After receiving line-by-line code explanations from Chatgpt for the Tutorial Monte Hall problem, I found it easier to understand the conceptual process within the shorter code provided. I believe that using the chatbot technology helps us filter out all of the useless material. and organize all the important data we need on the internet, directing us to the correct thought process and course to take. Overall, I believe that the tool helps us comprehend the code in a very short period of time, as opposed to the previous practice of posting on the internet or any online forum and waiting for responses. Alternatively, you might spend a lot of time doing more research using search engines."
   ]
  },
  {
   "cell_type": "markdown",
   "id": "effc11d5",
   "metadata": {},
   "source": [
    "chatbot link 1: https://chatgpt.com/share/66e8e085-7730-800a-9d99-238120354ab3\n",
    "\n",
    "chatbot link 2: https://chatgpt.com/share/66e8e0ac-80b0-800a-9b96-3af84be41fcc\n",
    "\n",
    "chatbot link 3: https://chatgpt.com/share/66e8e0bb-7348-800a-b896-6d62ff4cc12a"
   ]
  }
 ],
 "metadata": {
  "kernelspec": {
   "display_name": "Python 3 (ipykernel)",
   "language": "python",
   "name": "python3"
  },
  "language_info": {
   "codemirror_mode": {
    "name": "ipython",
    "version": 3
   },
   "file_extension": ".py",
   "mimetype": "text/x-python",
   "name": "python",
   "nbconvert_exporter": "python",
   "pygments_lexer": "ipython3",
   "version": "3.11.6"
  }
 },
 "nbformat": 4,
 "nbformat_minor": 5
}
