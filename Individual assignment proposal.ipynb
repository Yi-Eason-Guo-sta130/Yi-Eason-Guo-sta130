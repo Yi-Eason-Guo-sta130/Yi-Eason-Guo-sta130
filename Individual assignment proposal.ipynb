{
 "cells": [
  {
   "cell_type": "markdown",
   "id": "9369a0f3",
   "metadata": {},
   "source": [
    "# Individual assignment proposal\n",
    "Project team: \n",
    "\n",
    "Yi(Eason) Guo, Joshua Chen, Jiacheng Zhou, Zhe Lyu\n"
   ]
  },
  {
   "cell_type": "markdown",
   "id": "6b85b47f",
   "metadata": {},
   "source": [
    "### Introduction:\n",
    "This project aims to explore how social connections—relationships with family, friends, coworkers, neighbours, and even strangers—affect personal well-being. By analyzing data from the CSCS(Canadian Social Connection Survey), we seek to uncover insights that highlight the impact of social ties on public health, using various comparable variables collected within the dataset. This analysis will contribute to the broader discussion on the essential role of social connections in supporting personal and public well-being. \n",
    "\n"
   ]
  },
  {
   "cell_type": "markdown",
   "id": "d81b8ef4",
   "metadata": {},
   "source": [
    "### Analysis #1: GEO_province and WELLNESS_life_satisfaction\n",
    "   The variable GEO_province demonstrates the respondents’ province location in Canada and the WELLNESS_life_satisfaction variable includes the respondents’ life satisfaction on a scale of 1-10. By comparing these two variables, we could investigate the regional disparities in well-being, possibly due to economic, environmental, or social factors from each province. Additionally, we can further investigate urban-rural satisfaction differences, and examine demographic impacts on life satisfaction across provinces. By calculating the average life satisfaction scores for each province, we can find areas with higher or lower levels of well-being. This comparison may reveal differences in life satisfaction across regions, which could be influenced by factors such as economic conditions, access to resources, or cultural differences in each province.\n",
    "   \n",
    "   To verify this assumption, we can use the null hypothesis testing to assume that “There is no difference in mean life satisfaction scores between provinces.” As we compare the average life satisfaction between each one of the provinces and aim to reject our null hypothesis. \n"
   ]
  },
  {
   "cell_type": "markdown",
   "id": "e9a51df7",
   "metadata": {},
   "source": [
    "### Analysis #2 DEMO_age and WELLNESS_life_satisfaction\n",
    "   Using the respondents’ age and life satisfaction variables, we can examine whether age influences life satisfaction. This could possibly indicate a trend where certain age groups report higher or lower levels of satisfaction, demonstrating how different life stages impact overall well-being. For instance, we might find that younger respondents are less content due to job concerns, whereas older ones may report higher levels of satisfaction related to retirement and life accomplishments. Lastly investigating the interplay between age and life satisfaction can provide valuable insights into the well-being of different generations as it continues to play a role in factors that affect Canadian wellness life.\n",
    "\n",
    "Using this Idea, we can apply linear regression for this particular analysis, and estimate the average change in life satisfaction for each additional change in year age. We can visualize the trend by looking at the estimated slope and determine whether it meets our assumption. \n"
   ]
  },
  {
   "cell_type": "markdown",
   "id": "6fb2ab74",
   "metadata": {},
   "source": [
    "### Analysis #3 CONNECTION_social_days_family_p7d_grouped and WELLNESS_life_satisfaction\n",
    "The variable CONNECTION_social_days_family_p7d_grouped demonstrates how frequently the respondents have social interactions with family members within a week(7 days). Using this variable and comparing it to life satisfaction level, we can have more insights into the direct relationship between family interactions and life satisfaction. This helps us decide whether social connectivity helps individuals have a positive effect on life satisfaction and gives more insight into whether it plays a role as a source of emotional support, stress relief, and connection, which are all vital for mental health. \n",
    "\n",
    "A method using a null hypothesis that assumes “There is no difference in life satisfaction scores between those who interact with family in any frequency.” We could decide a certain significance level, in this case, α=0.05 due to a large amount of data calculate our p-value by bootstrapping the entire data set and lastly compare our p-value with α. In this case, since we are aiming to reject our null hypothesis, we are expecting that our calculated p-value is less than or equal to α. \n"
   ]
  },
  {
   "cell_type": "markdown",
   "id": "1bd8709f",
   "metadata": {},
   "source": [
    "In conclusion, our examination of the variables GEO_province, DEMO_age, and CONNECTION_social_days_family_p7d_grouped in connection to WELLNESS_life_satisfaction provides valuable insights into what influences well-being in Canada. ⁤By examining variances and means between regions, how age affects life satisfaction, and the significance of family interactions, we can discover clear differences in life satisfaction. ⁤⁤This study demonstrates how personal background and social relationships influence mental health, and progressively informing efforts to encourage general well-being in Canadian communities. ⁤\n"
   ]
  }
 ],
 "metadata": {
  "kernelspec": {
   "display_name": "Python 3 (ipykernel)",
   "language": "python",
   "name": "python3"
  },
  "language_info": {
   "codemirror_mode": {
    "name": "ipython",
    "version": 3
   },
   "file_extension": ".py",
   "mimetype": "text/x-python",
   "name": "python",
   "nbconvert_exporter": "python",
   "pygments_lexer": "ipython3",
   "version": "3.11.6"
  }
 },
 "nbformat": 4,
 "nbformat_minor": 5
}
